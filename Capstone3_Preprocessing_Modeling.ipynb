{
 "cells": [
  {
   "cell_type": "markdown",
   "id": "165e96cc",
   "metadata": {},
   "source": [
    "# Capstone 3: Preprocessing/Modeling"
   ]
  },
  {
   "cell_type": "code",
   "execution_count": 1,
   "id": "8b97a3bd",
   "metadata": {},
   "outputs": [],
   "source": [
    "#imports\n",
    "import pandas as pd\n",
    "import matplotlib.pyplot as plt\n",
    "from sklearn.model_selection import train_test_split\n",
    "from sklearn.compose import ColumnTransformer\n",
    "from sklearn.preprocessing import OneHotEncoder, MinMaxScaler\n",
    "from sklearn.feature_extraction.text import TfidfVectorizer\n",
    "from imblearn.pipeline import Pipeline\n",
    "from imblearn.over_sampling import SMOTE\n",
    "from sklearn.naive_bayes import ComplementNB\n",
    "from sklearn.metrics import accuracy_score, classification_report, confusion_matrix, roc_curve, roc_auc_score"
   ]
  },
  {
   "cell_type": "code",
   "execution_count": 2,
   "id": "11db4bc9",
   "metadata": {},
   "outputs": [
    {
     "data": {
      "text/html": [
       "<div>\n",
       "<style scoped>\n",
       "    .dataframe tbody tr th:only-of-type {\n",
       "        vertical-align: middle;\n",
       "    }\n",
       "\n",
       "    .dataframe tbody tr th {\n",
       "        vertical-align: top;\n",
       "    }\n",
       "\n",
       "    .dataframe thead th {\n",
       "        text-align: right;\n",
       "    }\n",
       "</style>\n",
       "<table border=\"1\" class=\"dataframe\">\n",
       "  <thead>\n",
       "    <tr style=\"text-align: right;\">\n",
       "      <th></th>\n",
       "      <th>telecommuting</th>\n",
       "      <th>has_company_logo</th>\n",
       "      <th>has_questions</th>\n",
       "      <th>employment_type</th>\n",
       "      <th>required_experience</th>\n",
       "      <th>required_education</th>\n",
       "      <th>industry</th>\n",
       "      <th>function</th>\n",
       "      <th>fraudulent</th>\n",
       "      <th>has_salary</th>\n",
       "      <th>country</th>\n",
       "      <th>state</th>\n",
       "      <th>city</th>\n",
       "      <th>title_char</th>\n",
       "      <th>combined_text</th>\n",
       "      <th>total_word</th>\n",
       "      <th>total_sent</th>\n",
       "      <th>avg_words_sent</th>\n",
       "    </tr>\n",
       "  </thead>\n",
       "  <tbody>\n",
       "    <tr>\n",
       "      <th>0</th>\n",
       "      <td>0</td>\n",
       "      <td>1</td>\n",
       "      <td>0</td>\n",
       "      <td>Other</td>\n",
       "      <td>Internship</td>\n",
       "      <td>Unspecified</td>\n",
       "      <td>Unspecified</td>\n",
       "      <td>Marketing</td>\n",
       "      <td>0</td>\n",
       "      <td>0</td>\n",
       "      <td>US</td>\n",
       "      <td>NY</td>\n",
       "      <td>NEW YORK</td>\n",
       "      <td>16</td>\n",
       "      <td>Marketing Intern We're Food52, and we've creat...</td>\n",
       "      <td>383</td>\n",
       "      <td>7</td>\n",
       "      <td>54.714286</td>\n",
       "    </tr>\n",
       "    <tr>\n",
       "      <th>1</th>\n",
       "      <td>0</td>\n",
       "      <td>1</td>\n",
       "      <td>0</td>\n",
       "      <td>Full-time</td>\n",
       "      <td>Not Applicable</td>\n",
       "      <td>Unspecified</td>\n",
       "      <td>Marketing and Advertising</td>\n",
       "      <td>Customer Service</td>\n",
       "      <td>0</td>\n",
       "      <td>0</td>\n",
       "      <td>NZ</td>\n",
       "      <td></td>\n",
       "      <td>AUCKLAND</td>\n",
       "      <td>41</td>\n",
       "      <td>Customer Service - Cloud Video Production 90 S...</td>\n",
       "      <td>901</td>\n",
       "      <td>25</td>\n",
       "      <td>36.040000</td>\n",
       "    </tr>\n",
       "    <tr>\n",
       "      <th>2</th>\n",
       "      <td>0</td>\n",
       "      <td>1</td>\n",
       "      <td>0</td>\n",
       "      <td>Unspecified</td>\n",
       "      <td>Unspecified</td>\n",
       "      <td>Unspecified</td>\n",
       "      <td>Unspecified</td>\n",
       "      <td>Unspecified</td>\n",
       "      <td>0</td>\n",
       "      <td>0</td>\n",
       "      <td>US</td>\n",
       "      <td>IA</td>\n",
       "      <td>WEVER</td>\n",
       "      <td>39</td>\n",
       "      <td>Commissioning Machinery Assistant (CMA) Valor ...</td>\n",
       "      <td>360</td>\n",
       "      <td>9</td>\n",
       "      <td>40.000000</td>\n",
       "    </tr>\n",
       "    <tr>\n",
       "      <th>3</th>\n",
       "      <td>0</td>\n",
       "      <td>1</td>\n",
       "      <td>0</td>\n",
       "      <td>Full-time</td>\n",
       "      <td>Mid-Senior level</td>\n",
       "      <td>Bachelor's Degree</td>\n",
       "      <td>Computer Software</td>\n",
       "      <td>Sales</td>\n",
       "      <td>0</td>\n",
       "      <td>0</td>\n",
       "      <td>US</td>\n",
       "      <td>DC</td>\n",
       "      <td>WASHINGTON</td>\n",
       "      <td>33</td>\n",
       "      <td>Account Executive - Washington DC Our passion ...</td>\n",
       "      <td>709</td>\n",
       "      <td>9</td>\n",
       "      <td>78.777778</td>\n",
       "    </tr>\n",
       "    <tr>\n",
       "      <th>4</th>\n",
       "      <td>0</td>\n",
       "      <td>1</td>\n",
       "      <td>1</td>\n",
       "      <td>Full-time</td>\n",
       "      <td>Mid-Senior level</td>\n",
       "      <td>Bachelor's Degree</td>\n",
       "      <td>Hospital &amp; Health Care</td>\n",
       "      <td>Health Care Provider</td>\n",
       "      <td>0</td>\n",
       "      <td>0</td>\n",
       "      <td>US</td>\n",
       "      <td>FL</td>\n",
       "      <td>FORT WORTH</td>\n",
       "      <td>19</td>\n",
       "      <td>Bill Review Manager SpotSource Solutions LLC i...</td>\n",
       "      <td>470</td>\n",
       "      <td>16</td>\n",
       "      <td>29.375000</td>\n",
       "    </tr>\n",
       "  </tbody>\n",
       "</table>\n",
       "</div>"
      ],
      "text/plain": [
       "   telecommuting  has_company_logo  has_questions employment_type  \\\n",
       "0              0                 1              0           Other   \n",
       "1              0                 1              0       Full-time   \n",
       "2              0                 1              0     Unspecified   \n",
       "3              0                 1              0       Full-time   \n",
       "4              0                 1              1       Full-time   \n",
       "\n",
       "  required_experience required_education                   industry  \\\n",
       "0          Internship        Unspecified                Unspecified   \n",
       "1      Not Applicable        Unspecified  Marketing and Advertising   \n",
       "2         Unspecified        Unspecified                Unspecified   \n",
       "3    Mid-Senior level  Bachelor's Degree          Computer Software   \n",
       "4    Mid-Senior level  Bachelor's Degree     Hospital & Health Care   \n",
       "\n",
       "               function  fraudulent  has_salary country state        city  \\\n",
       "0             Marketing           0           0      US    NY    NEW YORK   \n",
       "1      Customer Service           0           0      NZ          AUCKLAND   \n",
       "2           Unspecified           0           0      US    IA       WEVER   \n",
       "3                 Sales           0           0      US    DC  WASHINGTON   \n",
       "4  Health Care Provider           0           0      US    FL  FORT WORTH   \n",
       "\n",
       "   title_char                                      combined_text  total_word  \\\n",
       "0          16  Marketing Intern We're Food52, and we've creat...         383   \n",
       "1          41  Customer Service - Cloud Video Production 90 S...         901   \n",
       "2          39  Commissioning Machinery Assistant (CMA) Valor ...         360   \n",
       "3          33  Account Executive - Washington DC Our passion ...         709   \n",
       "4          19  Bill Review Manager SpotSource Solutions LLC i...         470   \n",
       "\n",
       "   total_sent  avg_words_sent  \n",
       "0           7       54.714286  \n",
       "1          25       36.040000  \n",
       "2           9       40.000000  \n",
       "3           9       78.777778  \n",
       "4          16       29.375000  "
      ]
     },
     "execution_count": 2,
     "metadata": {},
     "output_type": "execute_result"
    }
   ],
   "source": [
    "#load and check data\n",
    "df = pd.read_csv('cleaned.csv')\n",
    "df.head()"
   ]
  },
  {
   "cell_type": "code",
   "execution_count": 3,
   "id": "22775808",
   "metadata": {},
   "outputs": [],
   "source": [
    "#define target variable\n",
    "y = df.fraudulent\n",
    "X = df.drop('fraudulent', axis=1)"
   ]
  },
  {
   "cell_type": "code",
   "execution_count": 4,
   "id": "73bf3063",
   "metadata": {},
   "outputs": [],
   "source": [
    "#split into train and test sets\n",
    "X_train, X_test, y_train, y_test = train_test_split(X, y, test_size=0.3, random_state=14)"
   ]
  },
  {
   "cell_type": "code",
   "execution_count": 5,
   "id": "5eeb2919",
   "metadata": {},
   "outputs": [],
   "source": [
    "#define variable lists by type\n",
    "numeric = X_train.select_dtypes(['int','float']).columns.tolist()\n",
    "categorical = [column for column in X_train.columns if column not in numeric and column != 'combined_text']"
   ]
  },
  {
   "cell_type": "code",
   "execution_count": 6,
   "id": "6e2b42f5",
   "metadata": {},
   "outputs": [],
   "source": [
    "#create pre-processor for variable types\n",
    "processor = ColumnTransformer(transformers=[\n",
    "    ('text', TfidfVectorizer(strip_accents='unicode', stop_words='english'), 'combined_text'),\n",
    "    ('number', MinMaxScaler(), numeric),\n",
    "    ('category', OneHotEncoder(handle_unknown='ignore'), categorical)\n",
    "])"
   ]
  },
  {
   "cell_type": "code",
   "execution_count": 7,
   "id": "a3a9852f",
   "metadata": {},
   "outputs": [],
   "source": [
    "#create model using imblearn pipeline for pre-processing, over-sampling, and the classifier\n",
    "model = Pipeline(steps=[\n",
    "    ['processor', processor],\n",
    "    ['oversampling', SMOTE(random_state=14)],\n",
    "    ['classifier', ComplementNB(alpha=0.2)]\n",
    "])"
   ]
  },
  {
   "cell_type": "code",
   "execution_count": 8,
   "id": "05005142",
   "metadata": {},
   "outputs": [
    {
     "data": {
      "text/plain": [
       "Pipeline(steps=[('processor',\n",
       "                 ColumnTransformer(transformers=[('text',\n",
       "                                                  TfidfVectorizer(stop_words='english',\n",
       "                                                                  strip_accents='unicode'),\n",
       "                                                  'combined_text'),\n",
       "                                                 ('number', MinMaxScaler(),\n",
       "                                                  ['telecommuting',\n",
       "                                                   'has_company_logo',\n",
       "                                                   'has_questions',\n",
       "                                                   'has_salary', 'title_char',\n",
       "                                                   'total_word', 'total_sent',\n",
       "                                                   'avg_words_sent']),\n",
       "                                                 ('category',\n",
       "                                                  OneHotEncoder(handle_unknown='ignore'),\n",
       "                                                  ['employment_type',\n",
       "                                                   'required_experience',\n",
       "                                                   'required_education',\n",
       "                                                   'industry', 'function',\n",
       "                                                   'country', 'state',\n",
       "                                                   'city'])])),\n",
       "                ('oversampling', SMOTE(random_state=14)),\n",
       "                ['classifier', ComplementNB(alpha=0.2)]])"
      ]
     },
     "execution_count": 8,
     "metadata": {},
     "output_type": "execute_result"
    }
   ],
   "source": [
    "#fit model on training data\n",
    "model.fit(X_train, y_train)"
   ]
  },
  {
   "cell_type": "code",
   "execution_count": 9,
   "id": "dd1aeab3",
   "metadata": {},
   "outputs": [],
   "source": [
    "#make predictions on both train and test sets\n",
    "training_pred = model.predict(X_train)\n",
    "testing_pred = model.predict(X_test)"
   ]
  },
  {
   "cell_type": "code",
   "execution_count": 10,
   "id": "2382affd",
   "metadata": {
    "scrolled": false
   },
   "outputs": [
    {
     "name": "stdout",
     "output_type": "stream",
     "text": [
      "training accuracy:\n",
      "0.9782449874178099\n",
      "testing accuracy:\n",
      "0.9615530303030303\n"
     ]
    }
   ],
   "source": [
    "#check accuracy score\n",
    "training_accuracy = accuracy_score(y_train, training_pred)\n",
    "testing_accuracy = accuracy_score(y_test, testing_pred)\n",
    "print('training accuracy:')\n",
    "print(training_accuracy)\n",
    "print('testing accuracy:')\n",
    "print(testing_accuracy)"
   ]
  },
  {
   "cell_type": "code",
   "execution_count": 11,
   "id": "c66ee823",
   "metadata": {},
   "outputs": [
    {
     "name": "stdout",
     "output_type": "stream",
     "text": [
      "training classification report:\n",
      "              precision    recall  f1-score   support\n",
      "\n",
      "           0       1.00      0.98      0.99     11732\n",
      "           1       0.69      0.98      0.81       587\n",
      "\n",
      "    accuracy                           0.98     12319\n",
      "   macro avg       0.85      0.98      0.90     12319\n",
      "weighted avg       0.98      0.98      0.98     12319\n",
      "\n",
      "testing classification report:\n",
      "              precision    recall  f1-score   support\n",
      "\n",
      "           0       0.99      0.97      0.98      5011\n",
      "           1       0.58      0.87      0.70       269\n",
      "\n",
      "    accuracy                           0.96      5280\n",
      "   macro avg       0.79      0.92      0.84      5280\n",
      "weighted avg       0.97      0.96      0.97      5280\n",
      "\n"
     ]
    }
   ],
   "source": [
    "#check classification reports\n",
    "training_report = classification_report(y_train, training_pred)\n",
    "testing_report = classification_report(y_test, testing_pred)\n",
    "print('training classification report:')\n",
    "print(training_report)\n",
    "print('testing classification report:')\n",
    "print(testing_report)"
   ]
  },
  {
   "cell_type": "code",
   "execution_count": 12,
   "id": "ec92eead",
   "metadata": {},
   "outputs": [
    {
     "name": "stdout",
     "output_type": "stream",
     "text": [
      "training confusion matrix:\n",
      "[[11474   258]\n",
      " [   10   577]]\n",
      "testing confusion matrix: \n",
      "[[4842  169]\n",
      " [  34  235]]\n"
     ]
    }
   ],
   "source": [
    "#check confusion matrices\n",
    "training_matrix = confusion_matrix(y_train, training_pred)\n",
    "testing_matrix = confusion_matrix(y_test, testing_pred)\n",
    "print('training confusion matrix:')\n",
    "print(training_matrix)\n",
    "print('testing confusion matrix: ')\n",
    "print(testing_matrix)"
   ]
  },
  {
   "cell_type": "code",
   "execution_count": 13,
   "id": "e8757c58",
   "metadata": {},
   "outputs": [
    {
     "data": {
      "image/png": "[encoded data removed]",
      "text/plain": [
       "<Figure size 432x288 with 1 Axes>"
      ]
     },
     "metadata": {
      "needs_background": "light"
     },
     "output_type": "display_data"
    }
   ],
   "source": [
    "#plot AUC-ROC Curve\n",
    "y_pred_proba = model.predict_proba(X_test)[::,1]\n",
    "fpr, tpr, _ = roc_curve(y_test,  y_pred_proba)\n",
    "auc = roc_auc_score(y_test, y_pred_proba)\n",
    "plt.plot(fpr,tpr,label=\"AUC=\"+str(auc))\n",
    "plt.legend()\n",
    "plt.ylabel('True Positive Rate')\n",
    "plt.xlabel('False Positive Rate')\n",
    "plt.title('ROC Curve')\n",
    "plt.show()"
   ]
  },
  {
   "cell_type": "markdown",
   "id": "49c6d48c",
   "metadata": {},
   "source": [
    "* Complement Naive Bayes was chosen as the classifier for its strong ability to deal with both imbalanced data and text data\n",
    "* Model predictions were likely affected by categories/text not found in training data\n",
    "* Model performance is strong for 'recall', the key metric for the business context (missing instances of fraud are more costly)\n",
    "* Different parameters were tried that increased overall predictive performance (notably in precision) but at the cost of recall and were therefore rejected "
   ]
  },
  {
   "cell_type": "code",
   "execution_count": null,
   "id": "cfc9fcbf",
   "metadata": {},
   "outputs": [],
   "source": []
  }
 ],
 "metadata": {
  "kernelspec": {
   "display_name": "Python 3 (ipykernel)",
   "language": "python",
   "name": "python3"
  },
  "language_info": {
   "codemirror_mode": {
    "name": "ipython",
    "version": 3
   },
   "file_extension": ".py",
   "mimetype": "text/x-python",
   "name": "python",
   "nbconvert_exporter": "python",
   "pygments_lexer": "ipython3",
   "version": "3.9.7"
  }
 },
 "nbformat": 4,
 "nbformat_minor": 5
}
