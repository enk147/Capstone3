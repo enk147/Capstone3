{
 "cells": [
  {
   "cell_type": "markdown",
   "id": "8797a112",
   "metadata": {},
   "source": [
    "# Capstone 3: Data Wrangling/Exploratory Data Analysis"
   ]
  },
  {
   "cell_type": "markdown",
   "id": "6dddce86",
   "metadata": {},
   "source": [
    "Data source: https://www.kaggle.com/datasets/shivamb/real-or-fake-fake-jobposting-prediction"
   ]
  },
  {
   "cell_type": "markdown",
   "id": "df2fed87",
   "metadata": {},
   "source": [
    "## 1. Loads"
   ]
  },
  {
   "cell_type": "code",
   "execution_count": 1,
   "id": "d6c72d3f",
   "metadata": {},
   "outputs": [],
   "source": [
    "#load modules\n",
    "import pandas as pd\n",
    "import numpy as np\n",
    "import matplotlib.pyplot as plt\n",
    "import seaborn as sns\n",
    "from nltk import sent_tokenize"
   ]
  },
  {
   "cell_type": "code",
   "execution_count": 2,
   "id": "3c4e6b2c",
   "metadata": {},
   "outputs": [],
   "source": [
    "#load data\n",
    "data = pd.read_csv('job_postings.csv', index_col=0)"
   ]
  },
  {
   "cell_type": "code",
   "execution_count": 3,
   "id": "4d11f6c6",
   "metadata": {},
   "outputs": [
    {
     "data": {
      "text/html": [
       "<div>\n",
       "<style scoped>\n",
       "    .dataframe tbody tr th:only-of-type {\n",
       "        vertical-align: middle;\n",
       "    }\n",
       "\n",
       "    .dataframe tbody tr th {\n",
       "        vertical-align: top;\n",
       "    }\n",
       "\n",
       "    .dataframe thead th {\n",
       "        text-align: right;\n",
       "    }\n",
       "</style>\n",
       "<table border=\"1\" class=\"dataframe\">\n",
       "  <thead>\n",
       "    <tr style=\"text-align: right;\">\n",
       "      <th></th>\n",
       "      <th>title</th>\n",
       "      <th>location</th>\n",
       "      <th>department</th>\n",
       "      <th>salary_range</th>\n",
       "      <th>company_profile</th>\n",
       "      <th>description</th>\n",
       "      <th>requirements</th>\n",
       "      <th>benefits</th>\n",
       "      <th>telecommuting</th>\n",
       "      <th>has_company_logo</th>\n",
       "      <th>has_questions</th>\n",
       "      <th>employment_type</th>\n",
       "      <th>required_experience</th>\n",
       "      <th>required_education</th>\n",
       "      <th>industry</th>\n",
       "      <th>function</th>\n",
       "      <th>fraudulent</th>\n",
       "    </tr>\n",
       "    <tr>\n",
       "      <th>job_id</th>\n",
       "      <th></th>\n",
       "      <th></th>\n",
       "      <th></th>\n",
       "      <th></th>\n",
       "      <th></th>\n",
       "      <th></th>\n",
       "      <th></th>\n",
       "      <th></th>\n",
       "      <th></th>\n",
       "      <th></th>\n",
       "      <th></th>\n",
       "      <th></th>\n",
       "      <th></th>\n",
       "      <th></th>\n",
       "      <th></th>\n",
       "      <th></th>\n",
       "      <th></th>\n",
       "    </tr>\n",
       "  </thead>\n",
       "  <tbody>\n",
       "    <tr>\n",
       "      <th>1</th>\n",
       "      <td>Marketing Intern</td>\n",
       "      <td>US, NY, New York</td>\n",
       "      <td>Marketing</td>\n",
       "      <td>NaN</td>\n",
       "      <td>We're Food52, and we've created a groundbreaki...</td>\n",
       "      <td>Food52, a fast-growing, James Beard Award-winn...</td>\n",
       "      <td>Experience with content management systems a m...</td>\n",
       "      <td>NaN</td>\n",
       "      <td>0</td>\n",
       "      <td>1</td>\n",
       "      <td>0</td>\n",
       "      <td>Other</td>\n",
       "      <td>Internship</td>\n",
       "      <td>NaN</td>\n",
       "      <td>NaN</td>\n",
       "      <td>Marketing</td>\n",
       "      <td>0</td>\n",
       "    </tr>\n",
       "    <tr>\n",
       "      <th>2</th>\n",
       "      <td>Customer Service - Cloud Video Production</td>\n",
       "      <td>NZ, , Auckland</td>\n",
       "      <td>Success</td>\n",
       "      <td>NaN</td>\n",
       "      <td>90 Seconds, the worlds Cloud Video Production ...</td>\n",
       "      <td>Organised - Focused - Vibrant - Awesome!Do you...</td>\n",
       "      <td>What we expect from you:Your key responsibilit...</td>\n",
       "      <td>What you will get from usThrough being part of...</td>\n",
       "      <td>0</td>\n",
       "      <td>1</td>\n",
       "      <td>0</td>\n",
       "      <td>Full-time</td>\n",
       "      <td>Not Applicable</td>\n",
       "      <td>NaN</td>\n",
       "      <td>Marketing and Advertising</td>\n",
       "      <td>Customer Service</td>\n",
       "      <td>0</td>\n",
       "    </tr>\n",
       "    <tr>\n",
       "      <th>3</th>\n",
       "      <td>Commissioning Machinery Assistant (CMA)</td>\n",
       "      <td>US, IA, Wever</td>\n",
       "      <td>NaN</td>\n",
       "      <td>NaN</td>\n",
       "      <td>Valor Services provides Workforce Solutions th...</td>\n",
       "      <td>Our client, located in Houston, is actively se...</td>\n",
       "      <td>Implement pre-commissioning and commissioning ...</td>\n",
       "      <td>NaN</td>\n",
       "      <td>0</td>\n",
       "      <td>1</td>\n",
       "      <td>0</td>\n",
       "      <td>NaN</td>\n",
       "      <td>NaN</td>\n",
       "      <td>NaN</td>\n",
       "      <td>NaN</td>\n",
       "      <td>NaN</td>\n",
       "      <td>0</td>\n",
       "    </tr>\n",
       "    <tr>\n",
       "      <th>4</th>\n",
       "      <td>Account Executive - Washington DC</td>\n",
       "      <td>US, DC, Washington</td>\n",
       "      <td>Sales</td>\n",
       "      <td>NaN</td>\n",
       "      <td>Our passion for improving quality of life thro...</td>\n",
       "      <td>THE COMPANY: ESRI – Environmental Systems Rese...</td>\n",
       "      <td>EDUCATION: Bachelor’s or Master’s in GIS, busi...</td>\n",
       "      <td>Our culture is anything but corporate—we have ...</td>\n",
       "      <td>0</td>\n",
       "      <td>1</td>\n",
       "      <td>0</td>\n",
       "      <td>Full-time</td>\n",
       "      <td>Mid-Senior level</td>\n",
       "      <td>Bachelor's Degree</td>\n",
       "      <td>Computer Software</td>\n",
       "      <td>Sales</td>\n",
       "      <td>0</td>\n",
       "    </tr>\n",
       "    <tr>\n",
       "      <th>5</th>\n",
       "      <td>Bill Review Manager</td>\n",
       "      <td>US, FL, Fort Worth</td>\n",
       "      <td>NaN</td>\n",
       "      <td>NaN</td>\n",
       "      <td>SpotSource Solutions LLC is a Global Human Cap...</td>\n",
       "      <td>JOB TITLE: Itemization Review ManagerLOCATION:...</td>\n",
       "      <td>QUALIFICATIONS:RN license in the State of Texa...</td>\n",
       "      <td>Full Benefits Offered</td>\n",
       "      <td>0</td>\n",
       "      <td>1</td>\n",
       "      <td>1</td>\n",
       "      <td>Full-time</td>\n",
       "      <td>Mid-Senior level</td>\n",
       "      <td>Bachelor's Degree</td>\n",
       "      <td>Hospital &amp; Health Care</td>\n",
       "      <td>Health Care Provider</td>\n",
       "      <td>0</td>\n",
       "    </tr>\n",
       "  </tbody>\n",
       "</table>\n",
       "</div>"
      ],
      "text/plain": [
       "                                            title            location  \\\n",
       "job_id                                                                  \n",
       "1                                Marketing Intern    US, NY, New York   \n",
       "2       Customer Service - Cloud Video Production      NZ, , Auckland   \n",
       "3         Commissioning Machinery Assistant (CMA)       US, IA, Wever   \n",
       "4               Account Executive - Washington DC  US, DC, Washington   \n",
       "5                             Bill Review Manager  US, FL, Fort Worth   \n",
       "\n",
       "       department salary_range  \\\n",
       "job_id                           \n",
       "1       Marketing          NaN   \n",
       "2         Success          NaN   \n",
       "3             NaN          NaN   \n",
       "4           Sales          NaN   \n",
       "5             NaN          NaN   \n",
       "\n",
       "                                          company_profile  \\\n",
       "job_id                                                      \n",
       "1       We're Food52, and we've created a groundbreaki...   \n",
       "2       90 Seconds, the worlds Cloud Video Production ...   \n",
       "3       Valor Services provides Workforce Solutions th...   \n",
       "4       Our passion for improving quality of life thro...   \n",
       "5       SpotSource Solutions LLC is a Global Human Cap...   \n",
       "\n",
       "                                              description  \\\n",
       "job_id                                                      \n",
       "1       Food52, a fast-growing, James Beard Award-winn...   \n",
       "2       Organised - Focused - Vibrant - Awesome!Do you...   \n",
       "3       Our client, located in Houston, is actively se...   \n",
       "4       THE COMPANY: ESRI – Environmental Systems Rese...   \n",
       "5       JOB TITLE: Itemization Review ManagerLOCATION:...   \n",
       "\n",
       "                                             requirements  \\\n",
       "job_id                                                      \n",
       "1       Experience with content management systems a m...   \n",
       "2       What we expect from you:Your key responsibilit...   \n",
       "3       Implement pre-commissioning and commissioning ...   \n",
       "4       EDUCATION: Bachelor’s or Master’s in GIS, busi...   \n",
       "5       QUALIFICATIONS:RN license in the State of Texa...   \n",
       "\n",
       "                                                 benefits  telecommuting  \\\n",
       "job_id                                                                     \n",
       "1                                                     NaN              0   \n",
       "2       What you will get from usThrough being part of...              0   \n",
       "3                                                     NaN              0   \n",
       "4       Our culture is anything but corporate—we have ...              0   \n",
       "5                                   Full Benefits Offered              0   \n",
       "\n",
       "        has_company_logo  has_questions employment_type required_experience  \\\n",
       "job_id                                                                        \n",
       "1                      1              0           Other          Internship   \n",
       "2                      1              0       Full-time      Not Applicable   \n",
       "3                      1              0             NaN                 NaN   \n",
       "4                      1              0       Full-time    Mid-Senior level   \n",
       "5                      1              1       Full-time    Mid-Senior level   \n",
       "\n",
       "       required_education                   industry              function  \\\n",
       "job_id                                                                       \n",
       "1                     NaN                        NaN             Marketing   \n",
       "2                     NaN  Marketing and Advertising      Customer Service   \n",
       "3                     NaN                        NaN                   NaN   \n",
       "4       Bachelor's Degree          Computer Software                 Sales   \n",
       "5       Bachelor's Degree     Hospital & Health Care  Health Care Provider   \n",
       "\n",
       "        fraudulent  \n",
       "job_id              \n",
       "1                0  \n",
       "2                0  \n",
       "3                0  \n",
       "4                0  \n",
       "5                0  "
      ]
     },
     "execution_count": 3,
     "metadata": {},
     "output_type": "execute_result"
    }
   ],
   "source": [
    "#check data load\n",
    "data.head()"
   ]
  },
  {
   "cell_type": "markdown",
   "id": "2c2b2610",
   "metadata": {},
   "source": [
    "## 2. Overall Check"
   ]
  },
  {
   "cell_type": "code",
   "execution_count": 4,
   "id": "cbfad2a6",
   "metadata": {},
   "outputs": [
    {
     "name": "stdout",
     "output_type": "stream",
     "text": [
      "<class 'pandas.core.frame.DataFrame'>\n",
      "Int64Index: 17880 entries, 1 to 17880\n",
      "Data columns (total 17 columns):\n",
      " #   Column               Non-Null Count  Dtype \n",
      "---  ------               --------------  ----- \n",
      " 0   title                17880 non-null  object\n",
      " 1   location             17534 non-null  object\n",
      " 2   department           6333 non-null   object\n",
      " 3   salary_range         2868 non-null   object\n",
      " 4   company_profile      14572 non-null  object\n",
      " 5   description          17879 non-null  object\n",
      " 6   requirements         15185 non-null  object\n",
      " 7   benefits             10670 non-null  object\n",
      " 8   telecommuting        17880 non-null  int64 \n",
      " 9   has_company_logo     17880 non-null  int64 \n",
      " 10  has_questions        17880 non-null  int64 \n",
      " 11  employment_type      14409 non-null  object\n",
      " 12  required_experience  10830 non-null  object\n",
      " 13  required_education   9775 non-null   object\n",
      " 14  industry             12977 non-null  object\n",
      " 15  function             11425 non-null  object\n",
      " 16  fraudulent           17880 non-null  int64 \n",
      "dtypes: int64(4), object(13)\n",
      "memory usage: 2.5+ MB\n"
     ]
    }
   ],
   "source": [
    "#check general information\n",
    "data.info()"
   ]
  },
  {
   "cell_type": "markdown",
   "id": "5f760cbf",
   "metadata": {},
   "source": [
    "* Many null values for several explanatory variables\n",
    "* No null values for the target variable 'fraudulent'\n",
    "* Categorical and text variables only, no numeric variables"
   ]
  },
  {
   "cell_type": "code",
   "execution_count": 5,
   "id": "41e3b8c5",
   "metadata": {},
   "outputs": [
    {
     "data": {
      "text/plain": [
       "281"
      ]
     },
     "execution_count": 5,
     "metadata": {},
     "output_type": "execute_result"
    }
   ],
   "source": [
    "#check for duplicates\n",
    "data.duplicated().sum()"
   ]
  },
  {
   "cell_type": "code",
   "execution_count": 6,
   "id": "3f507ee2",
   "metadata": {},
   "outputs": [],
   "source": [
    "#drop duplicates\n",
    "df = pd.DataFrame(data.drop_duplicates())"
   ]
  },
  {
   "cell_type": "code",
   "execution_count": 7,
   "id": "4a4eaacf",
   "metadata": {},
   "outputs": [
    {
     "data": {
      "text/plain": [
       "0    16743\n",
       "1      856\n",
       "Name: fraudulent, dtype: int64"
      ]
     },
     "execution_count": 7,
     "metadata": {},
     "output_type": "execute_result"
    }
   ],
   "source": [
    "#check target variable classes\n",
    "df.fraudulent.value_counts()"
   ]
  },
  {
   "cell_type": "markdown",
   "id": "c02f538f",
   "metadata": {},
   "source": [
    "* Very imbalanced classes"
   ]
  },
  {
   "cell_type": "markdown",
   "id": "5557182f",
   "metadata": {},
   "source": [
    "## 3. Categorical Variables"
   ]
  },
  {
   "cell_type": "markdown",
   "id": "b2091196",
   "metadata": {},
   "source": [
    "### 3.1 Filling Missing Values "
   ]
  },
  {
   "cell_type": "code",
   "execution_count": 8,
   "id": "4ff840a0",
   "metadata": {},
   "outputs": [
    {
     "data": {
      "text/plain": [
       "salary_range           83.94\n",
       "department             64.37\n",
       "required_education     45.51\n",
       "benefits               40.38\n",
       "required_experience    39.56\n",
       "function               36.16\n",
       "industry               27.48\n",
       "employment_type        19.48\n",
       "company_profile        18.65\n",
       "requirements           15.05\n",
       "location                1.94\n",
       "description             0.01\n",
       "title                   0.00\n",
       "telecommuting           0.00\n",
       "has_questions           0.00\n",
       "has_company_logo        0.00\n",
       "fraudulent              0.00\n",
       "dtype: float64"
      ]
     },
     "execution_count": 8,
     "metadata": {},
     "output_type": "execute_result"
    }
   ],
   "source": [
    "#check null value percentages \n",
    "(round(df.isnull().sum()/len(df)*100, 2)).sort_values(ascending=False)"
   ]
  },
  {
   "cell_type": "code",
   "execution_count": 9,
   "id": "6bbca4c6",
   "metadata": {},
   "outputs": [
    {
     "data": {
      "text/plain": [
       "0-0            141\n",
       "40000-50000     66\n",
       "30000-40000     54\n",
       "45000-67000     36\n",
       "25000-30000     36\n",
       "              ... \n",
       "60-75            1\n",
       "27500-36000      1\n",
       "20-22            1\n",
       "110-120          1\n",
       "3700-3800        1\n",
       "Name: salary_range, Length: 874, dtype: int64"
      ]
     },
     "execution_count": 9,
     "metadata": {},
     "output_type": "execute_result"
    }
   ],
   "source": [
    "#check salary_range column\n",
    "df.salary_range.value_counts()"
   ]
  },
  {
   "cell_type": "markdown",
   "id": "183c57f7",
   "metadata": {},
   "source": [
    "* 84% missing values\n",
    "* Inconsistent ranges, perhaps due to hourly/annual salary differences\n",
    "* Any distribution based on actual salary value will likely not be relevant\n",
    "* However, fraud may be predicted by a 'fake' salary range\n",
    "* Convert to a boolean variable for now, potentially drop variable later"
   ]
  },
  {
   "cell_type": "code",
   "execution_count": 10,
   "id": "67f684d2",
   "metadata": {},
   "outputs": [],
   "source": [
    "#create has_salary column to replace salary_range\n",
    "df['has_salary'] = df.salary_range.notnull().astype('int')\n",
    "\n",
    "#drop salary_range column\n",
    "df.drop(columns=['salary_range'], inplace=True)"
   ]
  },
  {
   "cell_type": "code",
   "execution_count": 11,
   "id": "512a38d3",
   "metadata": {},
   "outputs": [
    {
     "data": {
      "text/plain": [
       "Bachelor's Degree                    5099\n",
       "High School or equivalent            1989\n",
       "Unspecified                          1369\n",
       "Master's Degree                       416\n",
       "Associate Degree                      264\n",
       "Certification                         165\n",
       "Some College Coursework Completed     100\n",
       "Professional                           73\n",
       "Vocational                             47\n",
       "Some High School Coursework            27\n",
       "Doctorate                              26\n",
       "Vocational - HS Diploma                 9\n",
       "Vocational - Degree                     6\n",
       "Name: required_education, dtype: int64"
      ]
     },
     "execution_count": 11,
     "metadata": {},
     "output_type": "execute_result"
    }
   ],
   "source": [
    "#check required_education\n",
    "df.required_education.value_counts()"
   ]
  },
  {
   "cell_type": "markdown",
   "id": "7ab6d94d",
   "metadata": {},
   "source": [
    "* 'Unspecified' column already exists\n",
    "* Multiple 'Vocational' values"
   ]
  },
  {
   "cell_type": "code",
   "execution_count": 12,
   "id": "6ed34885",
   "metadata": {},
   "outputs": [],
   "source": [
    "#fill missing values with 'Unspecified'\n",
    "df.required_education.fillna('Unspecified', inplace=True)"
   ]
  },
  {
   "cell_type": "code",
   "execution_count": 13,
   "id": "2c4ee91b",
   "metadata": {},
   "outputs": [],
   "source": [
    "#consolidate vocational values\n",
    "df.required_education.replace(to_replace=['Vocational - HS Diploma','Vocational - Degree'], value='Vocational', inplace=True)\n"
   ]
  },
  {
   "cell_type": "code",
   "execution_count": 14,
   "id": "0bfaa9bd",
   "metadata": {},
   "outputs": [
    {
     "data": {
      "image/png": "[encoded data removed]",
      "text/plain": [
       "<Figure size 720x360 with 1 Axes>"
      ]
     },
     "metadata": {},
     "output_type": "display_data"
    }
   ],
   "source": [
    "#check distribution of education\n",
    "order = df[df.required_education != 'Unspecified'].required_education.value_counts().index\n",
    "sns.set_style(\"darkgrid\")\n",
    "sns.catplot(y='required_education', data=df[df.required_education != 'Unspecified'], order=order, kind='count', orient='h', aspect=2)\n",
    "plt.title('Required Education Count')\n",
    "plt.xlabel('Count')\n",
    "plt.ylabel('Education Level')\n",
    "plt.show()"
   ]
  },
  {
   "cell_type": "code",
   "execution_count": 15,
   "id": "297d52d2",
   "metadata": {},
   "outputs": [
    {
     "data": {
      "text/plain": [
       "Mid-Senior level    3768\n",
       "Entry level         2637\n",
       "Associate           2267\n",
       "Not Applicable      1070\n",
       "Director             383\n",
       "Internship           372\n",
       "Executive            140\n",
       "Name: required_experience, dtype: int64"
      ]
     },
     "execution_count": 15,
     "metadata": {},
     "output_type": "execute_result"
    }
   ],
   "source": [
    "#check required_experience\n",
    "df.required_experience.value_counts()"
   ]
  },
  {
   "cell_type": "markdown",
   "id": "5172af8c",
   "metadata": {},
   "source": [
    "* 'Not Applicable' may mean no experience is required\n",
    "* Fill missing values with 'Unspecified' to be consistent with education_required values "
   ]
  },
  {
   "cell_type": "code",
   "execution_count": 16,
   "id": "50e0019f",
   "metadata": {},
   "outputs": [],
   "source": [
    "#fill missing values with 'Unspecified'\n",
    "df.required_experience.fillna('Unspecified', inplace=True)"
   ]
  },
  {
   "cell_type": "code",
   "execution_count": 17,
   "id": "15bb0324",
   "metadata": {},
   "outputs": [
    {
     "data": {
      "image/png": "[encoded data removed]",
      "text/plain": [
       "<Figure size 720x360 with 1 Axes>"
      ]
     },
     "metadata": {},
     "output_type": "display_data"
    }
   ],
   "source": [
    "#check distribution of required_experience\n",
    "order = df.required_experience.value_counts().index\n",
    "sns.catplot(y='required_experience', data=df, order=order, kind='count', orient='h', aspect=2)\n",
    "plt.title('Required Experience Count')\n",
    "plt.xlabel('Count')\n",
    "plt.ylabel('Experience Level')\n",
    "plt.show()"
   ]
  },
  {
   "cell_type": "code",
   "execution_count": 18,
   "id": "f6e0b00a",
   "metadata": {},
   "outputs": [
    {
     "data": {
      "text/plain": [
       "Full-time    11423\n",
       "Contract      1514\n",
       "Part-time      772\n",
       "Temporary      237\n",
       "Other          225\n",
       "Name: employment_type, dtype: int64"
      ]
     },
     "execution_count": 18,
     "metadata": {},
     "output_type": "execute_result"
    }
   ],
   "source": [
    "#Check employment_type\n",
    "df.employment_type.value_counts()"
   ]
  },
  {
   "cell_type": "code",
   "execution_count": 19,
   "id": "33e1b45d",
   "metadata": {},
   "outputs": [],
   "source": [
    "#fill missing values with 'Unspecified'\n",
    "df.employment_type.fillna('Unspecified', inplace=True)"
   ]
  },
  {
   "cell_type": "code",
   "execution_count": 20,
   "id": "b0ecccc8",
   "metadata": {},
   "outputs": [
    {
     "data": {
      "image/png": "[encoded data removed]",
      "text/plain": [
       "<Figure size 720x360 with 1 Axes>"
      ]
     },
     "metadata": {},
     "output_type": "display_data"
    }
   ],
   "source": [
    "#check distribution of employment_type\n",
    "order=['Temporary','Contract','Part-time','Full-time','Other','Unspecified']\n",
    "sns.catplot(x='employment_type', data=df, order=order, kind='count', aspect=2)\n",
    "plt.title('Employment Type Count')\n",
    "plt.xlabel('Employment Type')\n",
    "plt.ylabel('Count')\n",
    "plt.show()"
   ]
  },
  {
   "cell_type": "code",
   "execution_count": 21,
   "id": "06c701e2",
   "metadata": {},
   "outputs": [
    {
     "data": {
      "text/plain": [
       "GB, LND, London          718\n",
       "US, NY, New York         644\n",
       "US, CA, San Francisco    466\n",
       "GR, I, Athens            462\n",
       "US, ,                    339\n",
       "Name: location, dtype: int64"
      ]
     },
     "execution_count": 21,
     "metadata": {},
     "output_type": "execute_result"
    }
   ],
   "source": [
    "#Check location\n",
    "df.location.value_counts().head()"
   ]
  },
  {
   "cell_type": "markdown",
   "id": "a181fe7f",
   "metadata": {},
   "source": [
    "* Location can be separated out into three separate columns: country, state, city"
   ]
  },
  {
   "cell_type": "markdown",
   "id": "6bb60c57",
   "metadata": {},
   "source": [
    "### 3.2 Create Geographical Variables"
   ]
  },
  {
   "cell_type": "code",
   "execution_count": 22,
   "id": "3d2c33bf",
   "metadata": {},
   "outputs": [
    {
     "name": "stdout",
     "output_type": "stream",
     "text": [
      "90\n"
     ]
    },
    {
     "data": {
      "text/plain": [
       "US    10460\n",
       "GB     2329\n",
       "GR      938\n",
       "CA      450\n",
       "DE      382\n",
       "      ...  \n",
       "SI        1\n",
       "PE        1\n",
       "SD        1\n",
       "UG        1\n",
       "KH        1\n",
       "Name: country, Length: 90, dtype: int64"
      ]
     },
     "execution_count": 22,
     "metadata": {},
     "output_type": "execute_result"
    }
   ],
   "source": [
    "#Create country column\n",
    "df['country'] = df.location.str.split(',').str[0]\n",
    "print(df.country.nunique())\n",
    "df.country.value_counts()"
   ]
  },
  {
   "cell_type": "code",
   "execution_count": 23,
   "id": "41de25cc",
   "metadata": {},
   "outputs": [
    {
     "data": {
      "text/plain": [
       "341"
      ]
     },
     "execution_count": 23,
     "metadata": {},
     "output_type": "execute_result"
    }
   ],
   "source": [
    "#Check missing values\n",
    "df.country.isnull().sum()"
   ]
  },
  {
   "cell_type": "code",
   "execution_count": 24,
   "id": "95361ea9",
   "metadata": {},
   "outputs": [],
   "source": [
    "#fill missing values with 'Unspecified'\n",
    "df.country.fillna('Unspecified', inplace=True)"
   ]
  },
  {
   "cell_type": "code",
   "execution_count": 25,
   "id": "edabd2a4",
   "metadata": {},
   "outputs": [
    {
     "data": {
      "image/png": "[encoded data removed]",
      "text/plain": [
       "<Figure size 720x360 with 1 Axes>"
      ]
     },
     "metadata": {},
     "output_type": "display_data"
    }
   ],
   "source": [
    "#check distribution of top 10 countries\n",
    "top_10_countries = df.country.value_counts().head(10).rename_axis('country').reset_index(name='count')\n",
    "sns.catplot(x='country', y='count', kind='bar', data=top_10_countries, aspect=2)\n",
    "plt.title('Top 10 Countries Count')\n",
    "plt.xlabel('Country')\n",
    "plt.ylabel('Count')\n",
    "plt.show()"
   ]
  },
  {
   "cell_type": "code",
   "execution_count": 26,
   "id": "ca16c0be",
   "metadata": {},
   "outputs": [
    {
     "name": "stdout",
     "output_type": "stream",
     "text": [
      "325\n"
     ]
    },
    {
     "data": {
      "text/plain": [
       "        2108\n",
       " CA     2012\n",
       " NY     1228\n",
       " LND     991\n",
       " TX      957\n",
       "        ... \n",
       " ENF       1\n",
       " D         1\n",
       " 061       1\n",
       " 82        1\n",
       " NLE       1\n",
       "Name: state, Length: 325, dtype: int64"
      ]
     },
     "execution_count": 26,
     "metadata": {},
     "output_type": "execute_result"
    }
   ],
   "source": [
    "#Create state column\n",
    "df['state'] = df.location.str.split(',').str[1]\n",
    "print(df.state.nunique())\n",
    "df.state.value_counts()"
   ]
  },
  {
   "cell_type": "markdown",
   "id": "175d5f39",
   "metadata": {},
   "source": [
    "* Some countries may not refer to sub-regions as 'states' and may instead refer to them by a numeric code\n",
    "* Numeric strings within the 'state' columns will be left as-is"
   ]
  },
  {
   "cell_type": "code",
   "execution_count": 27,
   "id": "b34fe428",
   "metadata": {},
   "outputs": [
    {
     "data": {
      "text/plain": [
       "432"
      ]
     },
     "execution_count": 27,
     "metadata": {},
     "output_type": "execute_result"
    }
   ],
   "source": [
    "#Check missing values\n",
    "df.state.isnull().sum()"
   ]
  },
  {
   "cell_type": "code",
   "execution_count": 28,
   "id": "28fff752",
   "metadata": {},
   "outputs": [],
   "source": [
    "#Fill missing values with 'Unspecified'\n",
    "df.state.fillna('Unspecified', inplace=True)"
   ]
  },
  {
   "cell_type": "code",
   "execution_count": 29,
   "id": "c9975c74",
   "metadata": {},
   "outputs": [
    {
     "name": "stdout",
     "output_type": "stream",
     "text": [
      "2026\n"
     ]
    },
    {
     "data": {
      "text/plain": [
       "                     1620\n",
       "LONDON               1101\n",
       "NEW YORK              685\n",
       "ATHENS                558\n",
       "SAN FRANCISCO         488\n",
       "                     ... \n",
       "PERTH AND KINROSS       1\n",
       "RIDGEWOOD               1\n",
       "GAFFNEY                 1\n",
       "AHENS                   1\n",
       "BERKELEY HEIGHTS        1\n",
       "Name: city, Length: 2026, dtype: int64"
      ]
     },
     "execution_count": 29,
     "metadata": {},
     "output_type": "execute_result"
    }
   ],
   "source": [
    "#Create city column\n",
    "df['city'] = df.location.str.split(',').str[2]\n",
    "\n",
    "#lowercase and trim whitespace\n",
    "df.city = df.city.str.upper().str.strip()\n",
    "\n",
    "print(df.city.nunique())\n",
    "df.city.value_counts()"
   ]
  },
  {
   "cell_type": "markdown",
   "id": "93107d56",
   "metadata": {},
   "source": [
    "* Some values are misentered (incorrect spelling, entered state instead of city)\n",
    "* Errors may be indicative of fraud and will be left as-is"
   ]
  },
  {
   "cell_type": "code",
   "execution_count": 30,
   "id": "0e2a8304",
   "metadata": {},
   "outputs": [
    {
     "data": {
      "text/plain": [
       "432"
      ]
     },
     "execution_count": 30,
     "metadata": {},
     "output_type": "execute_result"
    }
   ],
   "source": [
    "#Check missing values\n",
    "df.city.isnull().sum()"
   ]
  },
  {
   "cell_type": "code",
   "execution_count": 31,
   "id": "4b0dc8d2",
   "metadata": {},
   "outputs": [],
   "source": [
    "#Fill missing values with 'Unspecified'\n",
    "df.city.fillna('Unspecified', inplace=True)"
   ]
  },
  {
   "cell_type": "code",
   "execution_count": 32,
   "id": "bc76aaad",
   "metadata": {},
   "outputs": [],
   "source": [
    "#Drop location column\n",
    "df.drop(columns=['location'], inplace=True)"
   ]
  },
  {
   "cell_type": "markdown",
   "id": "0344cec4",
   "metadata": {},
   "source": [
    "### 3.3 Overlapping Values"
   ]
  },
  {
   "cell_type": "markdown",
   "id": "8571b395",
   "metadata": {},
   "source": [
    "* The columns 'department', 'function', 'industry' have many overlapping values"
   ]
  },
  {
   "cell_type": "code",
   "execution_count": 33,
   "id": "97d484cb",
   "metadata": {},
   "outputs": [
    {
     "name": "stdout",
     "output_type": "stream",
     "text": [
      "total unique departments:  1337\n",
      "top 10 departments:\n",
      "Sales                     541\n",
      "Engineering               483\n",
      "Marketing                 397\n",
      "Operations                266\n",
      "IT                        224\n",
      "Development               146\n",
      "Product                   112\n",
      "Information Technology     86\n",
      "Design                     76\n",
      "Technology                 75\n",
      "Name: department, dtype: int64\n"
     ]
    }
   ],
   "source": [
    "# department unique values and top 10 values``\n",
    "print('total unique departments: ', df.department.nunique())\n",
    "print('top 10 departments:')\n",
    "print(df.department.value_counts().head(10))"
   ]
  },
  {
   "cell_type": "markdown",
   "id": "5b51037b",
   "metadata": {},
   "source": [
    "* Inconsistency in categorization (ex. IT vs Information Technology, tech VS Technology)"
   ]
  },
  {
   "cell_type": "code",
   "execution_count": 34,
   "id": "b3cff849",
   "metadata": {},
   "outputs": [
    {
     "name": "stdout",
     "output_type": "stream",
     "text": [
      "total unique functions:  37\n",
      "top 10 functions:\n",
      "Information Technology    1730\n",
      "Sales                     1448\n",
      "Engineering               1339\n",
      "Customer Service          1180\n",
      "Marketing                  818\n",
      "Administrative             613\n",
      "Design                     336\n",
      "Health Care Provider       326\n",
      "Other                      325\n",
      "Education                  325\n",
      "Name: function, dtype: int64\n"
     ]
    }
   ],
   "source": [
    "# function unique values and top 10 values``\n",
    "print('total unique functions: ', df.function.nunique())\n",
    "print('top 10 functions:')\n",
    "print(df.function.value_counts().head(10))"
   ]
  },
  {
   "cell_type": "markdown",
   "id": "60424223",
   "metadata": {},
   "source": [
    "* Categorized more consistently than 'department'"
   ]
  },
  {
   "cell_type": "code",
   "execution_count": 35,
   "id": "83c31770",
   "metadata": {},
   "outputs": [
    {
     "name": "stdout",
     "output_type": "stream",
     "text": [
      "total unique industries:  131\n",
      "top 10 industries:\n",
      "Information Technology and Services    1711\n",
      "Computer Software                      1362\n",
      "Internet                               1054\n",
      "Education Management                    819\n",
      "Marketing and Advertising               818\n",
      "Financial Services                      748\n",
      "Hospital & Health Care                  483\n",
      "Consumer Services                       348\n",
      "Telecommunications                      326\n",
      "Oil & Energy                            286\n",
      "Name: industry, dtype: int64\n"
     ]
    }
   ],
   "source": [
    "# industry unique values and top 10 values``\n",
    "print('total unique industries: ', df.industry.nunique())\n",
    "print('top 10 industries:')\n",
    "print(df.industry.value_counts().head(10))"
   ]
  },
  {
   "cell_type": "markdown",
   "id": "bee410da",
   "metadata": {},
   "source": [
    "* Of the three, 'department' has by far the most missing values (~65%) and is the least consistently categorized (1337 unique values)\n",
    "* The remaining two have fewer missing values: 'function' (36%) and 'industry' (27%), and are relatively more consistently categorized: 'function' (37 unique values) and 'industry' (131 unique values)\n",
    "* Drop the 'department' column, keep 'function' and 'industry'"
   ]
  },
  {
   "cell_type": "code",
   "execution_count": 36,
   "id": "c53b4601",
   "metadata": {},
   "outputs": [],
   "source": [
    "# drop department\n",
    "df.drop(columns=['department'], inplace=True)"
   ]
  },
  {
   "cell_type": "code",
   "execution_count": 37,
   "id": "f5877105",
   "metadata": {},
   "outputs": [],
   "source": [
    "#fill missing values with 'Unspecified'\n",
    "df.function.fillna('Unspecified', inplace=True)\n",
    "df.industry.fillna('Unspecified', inplace=True)"
   ]
  },
  {
   "cell_type": "markdown",
   "id": "db6b0aff",
   "metadata": {},
   "source": [
    "### 3.4 Define variables lists"
   ]
  },
  {
   "cell_type": "code",
   "execution_count": 38,
   "id": "801ebbf7",
   "metadata": {},
   "outputs": [],
   "source": [
    "#create list of text variables\n",
    "text = ['title','company_profile','description','requirements','benefits']"
   ]
  },
  {
   "cell_type": "code",
   "execution_count": 39,
   "id": "e297d305",
   "metadata": {},
   "outputs": [],
   "source": [
    "#create list of categorical names by removing text and target variables\n",
    "categorical = [column for column in df.columns if column not in text and column != 'fraudulent']"
   ]
  },
  {
   "cell_type": "markdown",
   "id": "56839b5e",
   "metadata": {},
   "source": [
    "## 4. Numeric Variables"
   ]
  },
  {
   "cell_type": "markdown",
   "id": "35e72666",
   "metadata": {},
   "source": [
    "* Basic numeric features will be created from the text before the text is transformed during vectorization \n",
    "* TFIDF analysis will be done after the train/test split to prevent data leakage"
   ]
  },
  {
   "cell_type": "code",
   "execution_count": 40,
   "id": "0226a79e",
   "metadata": {},
   "outputs": [],
   "source": [
    "#create title character count variable\n",
    "df['title_char'] = df.title.apply(len)"
   ]
  },
  {
   "cell_type": "code",
   "execution_count": 41,
   "id": "39082ea3",
   "metadata": {},
   "outputs": [],
   "source": [
    "#function for word count\n",
    "def word_count(text):\n",
    "    return len(text.split())"
   ]
  },
  {
   "cell_type": "code",
   "execution_count": 42,
   "id": "d1a97853",
   "metadata": {},
   "outputs": [],
   "source": [
    "#combine all text\n",
    "combined_text = df[text].apply(lambda x: ' '.join(x.values.astype(str)), axis=1)\n",
    "\n",
    "#create total word count variable\n",
    "df['total_word'] = combined_text.astype('str').apply(word_count)"
   ]
  },
  {
   "cell_type": "code",
   "execution_count": 43,
   "id": "425ec941",
   "metadata": {},
   "outputs": [],
   "source": [
    "# function for sentence count\n",
    "def sent_count(text):\n",
    "    return len(sent_tokenize(text))"
   ]
  },
  {
   "cell_type": "code",
   "execution_count": 44,
   "id": "3fc21f2b",
   "metadata": {},
   "outputs": [],
   "source": [
    "#create total sentence count\n",
    "df['total_sent'] = combined_text.astype('str').apply(sent_count)"
   ]
  },
  {
   "cell_type": "code",
   "execution_count": 45,
   "id": "6a4e9ffe",
   "metadata": {},
   "outputs": [],
   "source": [
    "#create average words per sentence\n",
    "df['avg_words_sent'] = df['total_word']/df['total_sent']"
   ]
  },
  {
   "cell_type": "code",
   "execution_count": 46,
   "id": "0b4dbc14",
   "metadata": {},
   "outputs": [],
   "source": [
    "#define numeric variable list\n",
    "numeric = ['title_char','total_word','total_sent','avg_words_sent']"
   ]
  },
  {
   "cell_type": "code",
   "execution_count": 47,
   "id": "592dff8e",
   "metadata": {},
   "outputs": [
    {
     "data": {
      "image/png": "[encoded data removed]",
      "text/plain": [
       "<Figure size 773x720 with 20 Axes>"
      ]
     },
     "metadata": {},
     "output_type": "display_data"
    }
   ],
   "source": [
    "#check pair plots\n",
    "sns.pairplot(data=df, vars=numeric, hue='fraudulent', kind='kde')\n",
    "plt.show()"
   ]
  },
  {
   "cell_type": "markdown",
   "id": "899644aa",
   "metadata": {},
   "source": [
    "* In general, it looks like fraudulent job postings tend to be shorter overall: title character lenghth, word count, sentence count, and average words per sentence are lower than non-fraudulent postings\n",
    "* Distributions indicate numeric variables will need to be scaled during preprocessing"
   ]
  },
  {
   "cell_type": "markdown",
   "id": "b2036448",
   "metadata": {},
   "source": [
    "## 5. Target Variable"
   ]
  },
  {
   "cell_type": "code",
   "execution_count": 48,
   "id": "d71bb5dd",
   "metadata": {},
   "outputs": [
    {
     "name": "stdout",
     "output_type": "stream",
     "text": [
      "% of fraudulent job postings:  4.86\n"
     ]
    }
   ],
   "source": [
    "#check class imbalance percentage\n",
    "print('% of fraudulent job postings: ', round(df.fraudulent.sum()/len(df.fraudulent)*100, 2))"
   ]
  },
  {
   "cell_type": "markdown",
   "id": "13780094",
   "metadata": {},
   "source": [
    "* The 'fraudulent' class is less than 5% of the data\n",
    "* Minority class can by oversampled synthetically during preprocessing\n",
    "* Oversampling will be done after text vectorization"
   ]
  },
  {
   "cell_type": "code",
   "execution_count": 49,
   "id": "75e00e5f",
   "metadata": {},
   "outputs": [],
   "source": [
    "#define target variable\n",
    "y = df.fraudulent\n",
    "X = df.drop('fraudulent', axis=1)"
   ]
  },
  {
   "cell_type": "code",
   "execution_count": 50,
   "id": "e4eda877",
   "metadata": {},
   "outputs": [],
   "source": [
    "#save file\n",
    "cleaned = df.to_csv('cleaned.csv', index=False)"
   ]
  },
  {
   "cell_type": "markdown",
   "id": "6a8b3d6c",
   "metadata": {},
   "source": [
    "## 6. Next Steps"
   ]
  },
  {
   "cell_type": "markdown",
   "id": "eeda7915",
   "metadata": {},
   "source": [
    "* Split data into train and test sets\n",
    "* One-hot encode categorical variables\n",
    "* Scale numeric variables\n",
    "* Vectorize text variables\n",
    "* Oversample minority class for target variable\n",
    "* Modeling"
   ]
  },
  {
   "cell_type": "code",
   "execution_count": null,
   "id": "056b1d24",
   "metadata": {},
   "outputs": [],
   "source": []
  }
 ],
 "metadata": {
  "kernelspec": {
   "display_name": "Python 3 (ipykernel)",
   "language": "python",
   "name": "python3"
  },
  "language_info": {
   "codemirror_mode": {
    "name": "ipython",
    "version": 3
   },
   "file_extension": ".py",
   "mimetype": "text/x-python",
   "name": "python",
   "nbconvert_exporter": "python",
   "pygments_lexer": "ipython3",
   "version": "3.9.7"
  }
 },
 "nbformat": 4,
 "nbformat_minor": 5
}
